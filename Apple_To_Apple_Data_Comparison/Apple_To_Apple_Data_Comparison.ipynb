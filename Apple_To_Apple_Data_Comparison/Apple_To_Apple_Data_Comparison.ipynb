{
 "cells": [
  {
   "cell_type": "code",
   "execution_count": null,
   "id": "aa4e03a8-0424-463a-8870-6f03aa07ed02",
   "metadata": {},
   "outputs": [],
   "source": [
    "# required libraries\n",
    "from pyspark.sql import SparkSession\n",
    "from pyspark.sql.functions import col\n",
    "import datetime\n",
    "from pyspark.sql.types import StructType\n",
    "from pyspark import SparkConf\n",
    "from pyspark.sql import SparkSession\n",
    "from pyspark.sql.functions import *\n",
    "import pandas as pd\n",
    "from pyspark.sql.types import *"
   ]
  },
  {
   "cell_type": "code",
   "execution_count": null,
   "id": "8627970f-3cbe-4935-846c-0388182b2e45",
   "metadata": {},
   "outputs": [],
   "source": [
    "import os\n",
    "import sys\n",
    "from pyspark.sql import SparkSession\n",
    "\n",
    "os.environ['PYSPARK_PYTHON'] = sys.executable\n",
    "os.environ['PYSPARK_DRIVER_PYTHON'] = sys.executable"
   ]
  },
  {
   "cell_type": "code",
   "execution_count": null,
   "id": "8ca573cb-7051-4083-8df5-1192c54fe402",
   "metadata": {},
   "outputs": [],
   "source": [
    "my_conf = SparkConf()\n",
    "my_conf.set(\"spark.app.name\", \"w12_Spark_1\")\n",
    "my_conf.set(\"spark.master\", \"local[*]\")\n",
    "# my_conf.set(\"spark.driver.extraClassPath\", \"C:/Users/Vinoth/Downloads/sqljdbc_12.4.2.0_enu/sqljdbc_12.4/enu/jars/mssql-jdbc-12.4.2.jre8.jar\")\n",
    "my_conf.set('spark.jars.packages', 'uk.co.gresearch.spark:spark-extension_2.12:2.11.0-3.5')\n",
    "\n",
    "spark = SparkSession.builder.config(conf = my_conf).getOrCreate()\n",
    "spark\n"
   ]
  },
  {
   "cell_type": "code",
   "execution_count": null,
   "id": "7122c768-8e62-4a46-8707-c7b3f2f7bad6",
   "metadata": {},
   "outputs": [],
   "source": [
    "print(f'The PySpark {spark.version} version is running...')"
   ]
  },
  {
   "cell_type": "code",
   "execution_count": null,
   "id": "96b6450e-cca0-4733-b86d-9d55f21f609b",
   "metadata": {},
   "outputs": [],
   "source": [
    "import sys\n",
    "print(\"Python Version \", sys.version)\n"
   ]
  },
  {
   "cell_type": "code",
   "execution_count": null,
   "id": "8be0523a-c693-40bd-8b77-6ab24ee59b04",
   "metadata": {},
   "outputs": [],
   "source": [
    "from gresearch.spark.diff import *"
   ]
  },
  {
   "cell_type": "code",
   "execution_count": null,
   "id": "95b0ff43-f684-4c18-91dd-8d1d98ae1232",
   "metadata": {},
   "outputs": [],
   "source": [
    "left = spark.createDataFrame([(1, 1.0), (2, 434.99999999999994), (3, 3.0), (4, 2.0)]).toDF(\"id\", \"value\")\n",
    "right = spark.createDataFrame([(1, 1.0), (2, 435.0), (3, 3.05), (5, 3.0)]).toDF(\"id\", \"value\")\n",
    "left.diff(right, \"id\").show()"
   ]
  },
  {
   "cell_type": "code",
   "execution_count": null,
   "id": "dbbad6bd-b941-4715-82b4-4b1339c8462d",
   "metadata": {},
   "outputs": [],
   "source": [
    "options = DiffOptions() \\\n",
    "  .with_diff_column(\"diff\") \\\n",
    "  .with_left_column_prefix(\"l\") \\\n",
    "  .with_right_column_prefix(\"r\") \\\n",
    "  .with_insert_diff_value(\"I\") \\\n",
    "  .with_change_diff_value(\"Mismatch\") \\\n",
    "  .with_delete_diff_value(\"D\") \\\n",
    "  .with_nochange_diff_value(\"Match\") \\\n",
    "  .with_change_column(\"changes\") \\\n",
    "  .with_diff_mode(DiffMode.Default) \\\n",
    "  .with_data_type_comparator(DiffComparators.epsilon(sys.float_info.epsilon ** 0.5), DoubleType()) "
   ]
  },
  {
   "cell_type": "code",
   "execution_count": null,
   "id": "7fc71fcb-1148-4aea-a867-0662441b8532",
   "metadata": {
    "scrolled": true
   },
   "outputs": [],
   "source": [
    "df = left.diff_with_options(right, options, \"id\")"
   ]
  },
  {
   "cell_type": "code",
   "execution_count": null,
   "id": "fdf4ec08-f7cc-4ddb-b71b-162c2ae4e167",
   "metadata": {},
   "outputs": [],
   "source": [
    "df.show()"
   ]
  },
  {
   "cell_type": "code",
   "execution_count": null,
   "id": "6c09da13-b7ca-490e-96dc-186135370cfa",
   "metadata": {},
   "outputs": [],
   "source": [
    "# TO Display the Mismatch Records\n",
    "df.where(\"diff not in ('Match')\").show()"
   ]
  },
  {
   "cell_type": "code",
   "execution_count": null,
   "id": "629d4ffb-df2c-4841-b932-3d1806228994",
   "metadata": {},
   "outputs": [],
   "source": []
  }
 ],
 "metadata": {
  "kernelspec": {
   "display_name": "Python 3 (ipykernel)",
   "language": "python",
   "name": "python3"
  },
  "language_info": {
   "codemirror_mode": {
    "name": "ipython",
    "version": 3
   },
   "file_extension": ".py",
   "mimetype": "text/x-python",
   "name": "python",
   "nbconvert_exporter": "python",
   "pygments_lexer": "ipython3",
   "version": "3.11.1"
  }
 },
 "nbformat": 4,
 "nbformat_minor": 5
}
