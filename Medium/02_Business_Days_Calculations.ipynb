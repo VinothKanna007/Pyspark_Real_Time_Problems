{
 "cells": [
  {
   "cell_type": "code",
   "execution_count": 110,
   "id": "aa4e03a8-0424-463a-8870-6f03aa07ed02",
   "metadata": {},
   "outputs": [],
   "source": [
    "from pyspark.sql.types import StructType\n",
    "from pyspark import SparkConf\n",
    "from pyspark.sql import SparkSession\n",
    "from pyspark.sql.functions import *\n",
    "import pandas as pd\n",
    "import math"
   ]
  },
  {
   "cell_type": "code",
   "execution_count": 111,
   "id": "8ca573cb-7051-4083-8df5-1192c54fe402",
   "metadata": {},
   "outputs": [
    {
     "data": {
      "text/html": [
       "\n",
       "            <div>\n",
       "                <p><b>SparkSession - in-memory</b></p>\n",
       "                \n",
       "        <div>\n",
       "            <p><b>SparkContext</b></p>\n",
       "\n",
       "            <p><a href=\"http://DESKTOP-FJ7E01E:4040\">Spark UI</a></p>\n",
       "\n",
       "            <dl>\n",
       "              <dt>Version</dt>\n",
       "                <dd><code>v3.5.0</code></dd>\n",
       "              <dt>Master</dt>\n",
       "                <dd><code>local[*]</code></dd>\n",
       "              <dt>AppName</dt>\n",
       "                <dd><code>w12_Spark_1</code></dd>\n",
       "            </dl>\n",
       "        </div>\n",
       "        \n",
       "            </div>\n",
       "        "
      ],
      "text/plain": [
       "<pyspark.sql.session.SparkSession at 0x1d0f4b79750>"
      ]
     },
     "execution_count": 111,
     "metadata": {},
     "output_type": "execute_result"
    }
   ],
   "source": [
    "my_conf = SparkConf()\n",
    "my_conf.set(\"spark.app.name\", \"w12_Spark_1\")\n",
    "my_conf.set(\"spark.master\", \"local[*]\")\n",
    "my_conf.set(\"spark.driver.extraClassPath\", \"C:/Users/Vinoth/Downloads/sqljdbc_12.4.2.0_enu/sqljdbc_12.4/enu/jars/mssql-jdbc-12.4.2.jre8.jar\")\n",
    "\n",
    "spark = SparkSession.builder.config(conf = my_conf).getOrCreate()\n",
    "spark\n"
   ]
  },
  {
   "cell_type": "code",
   "execution_count": 112,
   "id": "5392a20d-f9f6-41b4-9a0c-4708e5544e9f",
   "metadata": {},
   "outputs": [],
   "source": [
    "database_url = \"jdbc:sqlserver://DESKTOP-FJ7E01E\\SQLEXPRESS:1433;encrypt=true;trustServerCertificate=true\"\n",
    "\n",
    "database_name = \"Learn_Sql\"\n",
    "\n",
    "jdbc_properties = {\n",
    "\n",
    "\"user\": \"Vinoth\",\n",
    "\n",
    "\"password\": \"1234\",\n",
    "\n",
    "\"driver\": \"com.microsoft.sqlserver.jdbc.SQLServerDriver\"\n",
    "\n",
    "}"
   ]
  },
  {
   "cell_type": "code",
   "execution_count": 113,
   "id": "aedec24d-c5b2-4b6a-967f-a16da58c4e64",
   "metadata": {},
   "outputs": [],
   "source": [
    "# df_min_max = (spark.read\n",
    "# .format(\"jdbc\")\n",
    "# .option(\"url\", \"jdbc:sqlserver://DESKTOP-FJ7E01E\\SQLEXPRESS:1433;encrypt=true;trustServerCertificate=true;databaseName=Learn_Sql;\")\n",
    "# .option(\"query\",\"select min(cost) as min_row, max(cost) as max_row from products\")\n",
    "# .option(\"user\", \"Vinoth\")\n",
    "# .option(\"password\", \"1234\")\n",
    "# .option(\"driver\", \"com.microsoft.sqlserver.jdbc.SQLServerDriver\")\n",
    "# .load().collect())\n",
    "\n",
    "# min_value, max_value = df_min_max[0][0], df_min_max[0][1]"
   ]
  },
  {
   "cell_type": "code",
   "execution_count": 114,
   "id": "ad2c4cb2-7fea-4dcf-b85d-752a90b0057f",
   "metadata": {
    "scrolled": true
   },
   "outputs": [],
   "source": [
    "# df = (spark.read\n",
    "#       .option(\"numPartitions\", 3)\n",
    "#       .option(\"PartitionColumn\", \"cost\")\n",
    "#       .option(\"lowerBound\", int(min_value))\n",
    "#       .option(\"upperBound\", int(max_value))\n",
    "#       .jdbc(url=f\"{database_url};databaseName={database_name};\", table=\"products\", properties=jdbc_properties))"
   ]
  },
  {
   "cell_type": "code",
   "execution_count": 115,
   "id": "c68e826c-224e-4d85-934c-1deaa243ef2f",
   "metadata": {},
   "outputs": [],
   "source": [
    "tickets_df = (spark.read\n",
    "      .jdbc(url=f\"{database_url};databaseName={database_name};\", table=\"tickets\", properties=jdbc_properties))\n",
    "\n",
    "holidays_df = (spark.read\n",
    "      .jdbc(url=f\"{database_url};databaseName={database_name};\", table=\"holidays\", properties=jdbc_properties))"
   ]
  },
  {
   "cell_type": "code",
   "execution_count": 116,
   "id": "0f2295cf-9325-47e0-af84-5674b497ac93",
   "metadata": {},
   "outputs": [],
   "source": [
    "tickets_df = tickets_df.withColumn(\"no_of_days\",abs(datediff(\"create_date\", \"resolved_date\")))"
   ]
  },
  {
   "cell_type": "code",
   "execution_count": 117,
   "id": "8ef2f6e2-df8e-4bc3-9645-962044a7212f",
   "metadata": {},
   "outputs": [],
   "source": [
    "tickets_df = tickets_df.withColumn('week', 2*floor(datediff('resolved_date','create_date')/7))"
   ]
  },
  {
   "cell_type": "code",
   "execution_count": 118,
   "id": "71e8558e-e59b-483e-a8dd-154ccd1371a7",
   "metadata": {},
   "outputs": [],
   "source": [
    "tickets_df = tickets_df.withColumn('business_days', expr(\"no_of_days - week\"))"
   ]
  },
  {
   "cell_type": "code",
   "execution_count": 119,
   "id": "2e1b9c76-d0a1-4680-9ef5-ab8d755048ca",
   "metadata": {},
   "outputs": [
    {
     "name": "stdout",
     "output_type": "stream",
     "text": [
      "+---------+-----------+-------------+----------+----+-------------+\n",
      "|ticket_id|create_date|resolved_date|no_of_days|week|business_days|\n",
      "+---------+-----------+-------------+----------+----+-------------+\n",
      "|        1| 2022-08-01|   2022-08-03|         2|   0|            2|\n",
      "|        2| 2022-08-01|   2022-08-12|        11|   2|            9|\n",
      "|        3| 2022-08-01|   2022-08-16|        15|   4|           11|\n",
      "+---------+-----------+-------------+----------+----+-------------+\n",
      "\n"
     ]
    }
   ],
   "source": [
    "tickets_df.show()"
   ]
  },
  {
   "cell_type": "code",
   "execution_count": 120,
   "id": "1d6b8147-c0eb-46f9-9081-38bdaaaf6eef",
   "metadata": {},
   "outputs": [
    {
     "name": "stdout",
     "output_type": "stream",
     "text": [
      "+------------+----------------+\n",
      "|holiday_date|          reason|\n",
      "+------------+----------------+\n",
      "|  2022-08-11|           Rakhi|\n",
      "|  2022-08-15|Independence day|\n",
      "+------------+----------------+\n",
      "\n"
     ]
    }
   ],
   "source": [
    "holidays_df.show()"
   ]
  },
  {
   "cell_type": "code",
   "execution_count": 121,
   "id": "af534eb6-fc3e-4717-8818-5f38edd008e1",
   "metadata": {},
   "outputs": [
    {
     "name": "stdout",
     "output_type": "stream",
     "text": [
      "+---------+-----------+-------------+----------+----+-------------+------------+----------------+\n",
      "|ticket_id|create_date|resolved_date|no_of_days|week|business_days|holiday_date|          reason|\n",
      "+---------+-----------+-------------+----------+----+-------------+------------+----------------+\n",
      "|        1| 2022-08-01|   2022-08-03|         2|   0|            2|        NULL|            NULL|\n",
      "|        2| 2022-08-01|   2022-08-12|        11|   2|            9|  2022-08-11|           Rakhi|\n",
      "|        3| 2022-08-01|   2022-08-16|        15|   4|           11|  2022-08-11|           Rakhi|\n",
      "|        3| 2022-08-01|   2022-08-16|        15|   4|           11|  2022-08-15|Independence day|\n",
      "+---------+-----------+-------------+----------+----+-------------+------------+----------------+\n",
      "\n"
     ]
    }
   ],
   "source": [
    "join_condition = holidays_df[\"holiday_date\"].between(tickets_df[\"create_date\"],tickets_df[\"resolved_date\"])\n",
    "join_df = tickets_df.join(holidays_df,join_condition, 'left')\n",
    "join_df.show()"
   ]
  },
  {
   "cell_type": "code",
   "execution_count": 122,
   "id": "2742bff7-f248-43c5-9863-9f6f50c731a2",
   "metadata": {},
   "outputs": [
    {
     "name": "stdout",
     "output_type": "stream",
     "text": [
      "+---------+-----------+-------------+-------------+-----------+\n",
      "|ticket_id|create_date|resolved_date|business_days|holiday_cnt|\n",
      "+---------+-----------+-------------+-------------+-----------+\n",
      "|        3| 2022-08-01|   2022-08-16|           11|          2|\n",
      "|        2| 2022-08-01|   2022-08-12|            9|          1|\n",
      "|        1| 2022-08-01|   2022-08-03|            2|          0|\n",
      "+---------+-----------+-------------+-------------+-----------+\n",
      "\n"
     ]
    }
   ],
   "source": [
    "agg_df = join_df.groupBy(\"ticket_id\", \"create_date\",\"resolved_date\", \"business_days\")\\\n",
    ".agg(expr(\"count(reason) as holiday_cnt\"))\n",
    "agg_df.show()"
   ]
  },
  {
   "cell_type": "code",
   "execution_count": 123,
   "id": "ddb5092b-a0bb-4acd-9b58-9c3a8c3fe438",
   "metadata": {},
   "outputs": [
    {
     "name": "stdout",
     "output_type": "stream",
     "text": [
      "+---------+-----------+-------------+-------------+-----------+--------------------+\n",
      "|ticket_id|create_date|resolved_date|business_days|holiday_cnt|actual_business_days|\n",
      "+---------+-----------+-------------+-------------+-----------+--------------------+\n",
      "|        3| 2022-08-01|   2022-08-16|           11|          2|                   9|\n",
      "|        2| 2022-08-01|   2022-08-12|            9|          1|                   8|\n",
      "|        1| 2022-08-01|   2022-08-03|            2|          0|                   2|\n",
      "+---------+-----------+-------------+-------------+-----------+--------------------+\n",
      "\n"
     ]
    }
   ],
   "source": [
    "agg_df.withColumn(\"actual_business_days\", expr(\"business_days - holiday_cnt\")).show()"
   ]
  },
  {
   "cell_type": "code",
   "execution_count": 124,
   "id": "4ff23b75-6372-4d17-b683-7027f4711654",
   "metadata": {},
   "outputs": [],
   "source": [
    "spark.stop()"
   ]
  },
  {
   "cell_type": "code",
   "execution_count": null,
   "id": "ad4cb783-0d9b-4b3e-814a-c144868c10ae",
   "metadata": {},
   "outputs": [],
   "source": []
  }
 ],
 "metadata": {
  "kernelspec": {
   "display_name": "Python 3 (ipykernel)",
   "language": "python",
   "name": "python3"
  },
  "language_info": {
   "codemirror_mode": {
    "name": "ipython",
    "version": 3
   },
   "file_extension": ".py",
   "mimetype": "text/x-python",
   "name": "python",
   "nbconvert_exporter": "python",
   "pygments_lexer": "ipython3",
   "version": "3.11.1"
  }
 },
 "nbformat": 4,
 "nbformat_minor": 5
}
