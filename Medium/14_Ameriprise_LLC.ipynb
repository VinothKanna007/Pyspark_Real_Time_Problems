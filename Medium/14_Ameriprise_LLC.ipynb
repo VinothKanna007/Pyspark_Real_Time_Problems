{
 "cells": [
  {
   "cell_type": "code",
   "execution_count": 1,
   "id": "aa4e03a8-0424-463a-8870-6f03aa07ed02",
   "metadata": {},
   "outputs": [],
   "source": [
    "from pyspark.sql.types import StructType\n",
    "from pyspark import SparkConf\n",
    "from pyspark.sql import SparkSession\n",
    "from pyspark.sql.functions import *\n",
    "import pandas as pd\n",
    "import math\n",
    "from pyspark.sql.types import *\n",
    "from pyspark.sql.window import Window"
   ]
  },
  {
   "cell_type": "code",
   "execution_count": 2,
   "id": "8ca573cb-7051-4083-8df5-1192c54fe402",
   "metadata": {},
   "outputs": [
    {
     "data": {
      "text/html": [
       "\n",
       "            <div>\n",
       "                <p><b>SparkSession - in-memory</b></p>\n",
       "                \n",
       "        <div>\n",
       "            <p><b>SparkContext</b></p>\n",
       "\n",
       "            <p><a href=\"http://DESKTOP-FJ7E01E:4044\">Spark UI</a></p>\n",
       "\n",
       "            <dl>\n",
       "              <dt>Version</dt>\n",
       "                <dd><code>v3.5.0</code></dd>\n",
       "              <dt>Master</dt>\n",
       "                <dd><code>local[*]</code></dd>\n",
       "              <dt>AppName</dt>\n",
       "                <dd><code>w12_Spark_1</code></dd>\n",
       "            </dl>\n",
       "        </div>\n",
       "        \n",
       "            </div>\n",
       "        "
      ],
      "text/plain": [
       "<pyspark.sql.session.SparkSession at 0x173b72275d0>"
      ]
     },
     "execution_count": 2,
     "metadata": {},
     "output_type": "execute_result"
    }
   ],
   "source": [
    "my_conf = SparkConf()\n",
    "my_conf.set(\"spark.app.name\", \"w12_Spark_1\")\n",
    "my_conf.set(\"spark.master\", \"local[*]\")\n",
    "my_conf.set(\"spark.driver.extraClassPath\", \"C:/Users/Vinoth/Downloads/sqljdbc_12.4.2.0_enu/sqljdbc_12.4/enu/jars/mssql-jdbc-12.4.2.jre8.jar\")\n",
    "\n",
    "spark = SparkSession.builder.config(conf = my_conf).getOrCreate()\n",
    "spark\n"
   ]
  },
  {
   "cell_type": "code",
   "execution_count": 3,
   "id": "5392a20d-f9f6-41b4-9a0c-4708e5544e9f",
   "metadata": {},
   "outputs": [],
   "source": [
    "database_url = \"jdbc:sqlserver://DESKTOP-FJ7E01E\\SQLEXPRESS:1433;encrypt=true;trustServerCertificate=true\"\n",
    "\n",
    "database_name = \"Learn_Sql\"\n",
    "\n",
    "jdbc_properties = {\n",
    "\n",
    "\"user\": \"Vinoth\",\n",
    "\n",
    "\"password\": \"1234\",\n",
    "\n",
    "\"driver\": \"com.microsoft.sqlserver.jdbc.SQLServerDriver\"\n",
    "\n",
    "}"
   ]
  },
  {
   "cell_type": "code",
   "execution_count": 4,
   "id": "aedec24d-c5b2-4b6a-967f-a16da58c4e64",
   "metadata": {},
   "outputs": [],
   "source": [
    "# df_min_max = (spark.read\n",
    "# .format(\"jdbc\")\n",
    "# .option(\"url\", \"jdbc:sqlserver://DESKTOP-FJ7E01E\\SQLEXPRESS:1433;encrypt=true;trustServerCertificate=true;databaseName=Learn_Sql;\")\n",
    "# .option(\"query\",\"select min(cost) as min_row, max(cost) as max_row from products\")\n",
    "# .option(\"user\", \"Vinoth\")\n",
    "# .option(\"password\", \"1234\")\n",
    "# .option(\"driver\", \"com.microsoft.sqlserver.jdbc.SQLServerDriver\")\n",
    "# .load().collect())\n",
    "\n",
    "# min_value, max_value = df_min_max[0][0], df_min_max[0][1]"
   ]
  },
  {
   "cell_type": "code",
   "execution_count": 5,
   "id": "ad2c4cb2-7fea-4dcf-b85d-752a90b0057f",
   "metadata": {
    "scrolled": true
   },
   "outputs": [],
   "source": [
    "# df = (spark.read\n",
    "#       .option(\"numPartitions\", 3)\n",
    "#       .option(\"PartitionColumn\", \"cost\")\n",
    "#       .option(\"lowerBound\", int(min_value))\n",
    "#       .option(\"upperBound\", int(max_value))\n",
    "#       .jdbc(url=f\"{database_url};databaseName={database_name};\", table=\"products\", properties=jdbc_properties))"
   ]
  },
  {
   "cell_type": "code",
   "execution_count": 6,
   "id": "c68e826c-224e-4d85-934c-1deaa243ef2f",
   "metadata": {},
   "outputs": [],
   "source": [
    "input_df = (spark.read\n",
    "      .jdbc(url=f\"{database_url};databaseName={database_name};\", table=\"Ameriprise_LLC\", properties=jdbc_properties))\n"
   ]
  },
  {
   "cell_type": "code",
   "execution_count": 14,
   "id": "a0990b45-06d0-4c58-8119-21e8282c8692",
   "metadata": {},
   "outputs": [
    {
     "name": "stdout",
     "output_type": "stream",
     "text": [
      "+------+--------+---------+---------+\n",
      "|teamID|memberID|Criteria1|Criteria2|\n",
      "+------+--------+---------+---------+\n",
      "|    T1| T1_mbr1|        Y|        Y|\n",
      "|    T1| T1_mbr2|        Y|        Y|\n",
      "|    T1| T1_mbr3|        Y|        Y|\n",
      "|    T1| T1_mbr4|        Y|        Y|\n",
      "|    T1| T1_mbr5|        Y|        N|\n",
      "|    T2| T2_mbr1|        Y|        Y|\n",
      "|    T2| T2_mbr2|        Y|        N|\n",
      "|    T2| T2_mbr3|        N|        Y|\n",
      "|    T2| T2_mbr4|        N|        N|\n",
      "|    T2| T2_mbr5|        N|        N|\n",
      "|    T3| T3_mbr1|        Y|        Y|\n",
      "|    T3| T3_mbr2|        Y|        Y|\n",
      "|    T3| T3_mbr3|        N|        Y|\n",
      "|    T3| T3_mbr4|        N|        Y|\n",
      "|    T3| T3_mbr5|        Y|        N|\n",
      "+------+--------+---------+---------+\n",
      "\n"
     ]
    }
   ],
   "source": [
    "input_df.show()"
   ]
  },
  {
   "cell_type": "code",
   "execution_count": 13,
   "id": "ea66555c-3509-49e2-877f-b56e4866af7f",
   "metadata": {},
   "outputs": [],
   "source": [
    "df_agg = input_df.\\\n",
    "   withColumn(\"flag\", expr(\"case when Criteria1 == 'Y' and Criteria2 == 'Y' then 'Y' else 'N' end\"))\\\n",
    ".where(\"flag = 'Y'\")\\\n",
    ".groupBy(\"teamID\").agg(expr(\"count(*) as cnt\")).where(\"cnt >=2\")"
   ]
  },
  {
   "cell_type": "code",
   "execution_count": 26,
   "id": "24c2a065-8e1b-4baa-ad48-bf39ca46e2c1",
   "metadata": {},
   "outputs": [
    {
     "name": "stdout",
     "output_type": "stream",
     "text": [
      "+------+--------+---------+---------+------+\n",
      "|teamID|memberID|Criteria1|Criteria2|output|\n",
      "+------+--------+---------+---------+------+\n",
      "|    T1| T1_mbr1|        Y|        Y|     Y|\n",
      "|    T1| T1_mbr2|        Y|        Y|     Y|\n",
      "|    T1| T1_mbr3|        Y|        Y|     Y|\n",
      "|    T1| T1_mbr4|        Y|        Y|     Y|\n",
      "|    T1| T1_mbr5|        Y|        N|     N|\n",
      "|    T2| T2_mbr1|        Y|        Y|     N|\n",
      "|    T2| T2_mbr2|        Y|        N|     N|\n",
      "|    T2| T2_mbr3|        N|        Y|     N|\n",
      "|    T2| T2_mbr4|        N|        N|     N|\n",
      "|    T2| T2_mbr5|        N|        N|     N|\n",
      "|    T3| T3_mbr1|        Y|        Y|     Y|\n",
      "|    T3| T3_mbr2|        Y|        Y|     Y|\n",
      "|    T3| T3_mbr3|        N|        Y|     N|\n",
      "|    T3| T3_mbr4|        N|        Y|     N|\n",
      "|    T3| T3_mbr5|        Y|        N|     N|\n",
      "+------+--------+---------+---------+------+\n",
      "\n"
     ]
    }
   ],
   "source": [
    "input_df.alias(\"t1\").join(df_agg.alias(\"t2\"), col(\"t1.teamID\") == col(\"t2.teamID\"), 'left')\\\n",
    ".withColumn(\"output\", expr(\"case when Criteria1 == 'Y' and Criteria2 == 'Y' and cnt is not null then 'Y' else 'N' end\"))\\\n",
    ".orderBy(\"t1.teamID\").select(\"t1.teamID\", \"t1.memberID\", \"t1.Criteria1\", \"t1.Criteria2\", \"output\").show()"
   ]
  },
  {
   "cell_type": "code",
   "execution_count": null,
   "id": "9bb56a48-6008-47c9-96e3-d29a8b30ac2e",
   "metadata": {},
   "outputs": [],
   "source": []
  }
 ],
 "metadata": {
  "kernelspec": {
   "display_name": "Python 3 (ipykernel)",
   "language": "python",
   "name": "python3"
  },
  "language_info": {
   "codemirror_mode": {
    "name": "ipython",
    "version": 3
   },
   "file_extension": ".py",
   "mimetype": "text/x-python",
   "name": "python",
   "nbconvert_exporter": "python",
   "pygments_lexer": "ipython3",
   "version": "3.11.1"
  }
 },
 "nbformat": 4,
 "nbformat_minor": 5
}
