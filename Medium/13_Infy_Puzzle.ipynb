{
 "cells": [
  {
   "cell_type": "code",
   "execution_count": 181,
   "id": "aa4e03a8-0424-463a-8870-6f03aa07ed02",
   "metadata": {},
   "outputs": [],
   "source": [
    "from pyspark.sql.types import StructType\n",
    "from pyspark import SparkConf\n",
    "from pyspark.sql import SparkSession\n",
    "from pyspark.sql.functions import *\n",
    "import pandas as pd\n",
    "import math\n",
    "from pyspark.sql.types import *\n",
    "from pyspark.sql.window import Window"
   ]
  },
  {
   "cell_type": "code",
   "execution_count": 182,
   "id": "8ca573cb-7051-4083-8df5-1192c54fe402",
   "metadata": {},
   "outputs": [
    {
     "data": {
      "text/html": [
       "\n",
       "            <div>\n",
       "                <p><b>SparkSession - in-memory</b></p>\n",
       "                \n",
       "        <div>\n",
       "            <p><b>SparkContext</b></p>\n",
       "\n",
       "            <p><a href=\"http://DESKTOP-FJ7E01E:4043\">Spark UI</a></p>\n",
       "\n",
       "            <dl>\n",
       "              <dt>Version</dt>\n",
       "                <dd><code>v3.5.0</code></dd>\n",
       "              <dt>Master</dt>\n",
       "                <dd><code>local[*]</code></dd>\n",
       "              <dt>AppName</dt>\n",
       "                <dd><code>w12_Spark_1</code></dd>\n",
       "            </dl>\n",
       "        </div>\n",
       "        \n",
       "            </div>\n",
       "        "
      ],
      "text/plain": [
       "<pyspark.sql.session.SparkSession at 0x1d5682153d0>"
      ]
     },
     "execution_count": 182,
     "metadata": {},
     "output_type": "execute_result"
    }
   ],
   "source": [
    "my_conf = SparkConf()\n",
    "my_conf.set(\"spark.app.name\", \"w12_Spark_1\")\n",
    "my_conf.set(\"spark.master\", \"local[*]\")\n",
    "my_conf.set(\"spark.driver.extraClassPath\", \"C:/Users/Vinoth/Downloads/sqljdbc_12.4.2.0_enu/sqljdbc_12.4/enu/jars/mssql-jdbc-12.4.2.jre8.jar\")\n",
    "\n",
    "spark = SparkSession.builder.config(conf = my_conf).getOrCreate()\n",
    "spark\n"
   ]
  },
  {
   "cell_type": "code",
   "execution_count": 183,
   "id": "5392a20d-f9f6-41b4-9a0c-4708e5544e9f",
   "metadata": {},
   "outputs": [],
   "source": [
    "database_url = \"jdbc:sqlserver://DESKTOP-FJ7E01E\\SQLEXPRESS:1433;encrypt=true;trustServerCertificate=true\"\n",
    "\n",
    "database_name = \"Learn_Sql\"\n",
    "\n",
    "jdbc_properties = {\n",
    "\n",
    "\"user\": \"Vinoth\",\n",
    "\n",
    "\"password\": \"1234\",\n",
    "\n",
    "\"driver\": \"com.microsoft.sqlserver.jdbc.SQLServerDriver\"\n",
    "\n",
    "}"
   ]
  },
  {
   "cell_type": "code",
   "execution_count": 184,
   "id": "aedec24d-c5b2-4b6a-967f-a16da58c4e64",
   "metadata": {},
   "outputs": [],
   "source": [
    "# df_min_max = (spark.read\n",
    "# .format(\"jdbc\")\n",
    "# .option(\"url\", \"jdbc:sqlserver://DESKTOP-FJ7E01E\\SQLEXPRESS:1433;encrypt=true;trustServerCertificate=true;databaseName=Learn_Sql;\")\n",
    "# .option(\"query\",\"select min(cost) as min_row, max(cost) as max_row from products\")\n",
    "# .option(\"user\", \"Vinoth\")\n",
    "# .option(\"password\", \"1234\")\n",
    "# .option(\"driver\", \"com.microsoft.sqlserver.jdbc.SQLServerDriver\")\n",
    "# .load().collect())\n",
    "\n",
    "# min_value, max_value = df_min_max[0][0], df_min_max[0][1]"
   ]
  },
  {
   "cell_type": "code",
   "execution_count": 185,
   "id": "ad2c4cb2-7fea-4dcf-b85d-752a90b0057f",
   "metadata": {
    "scrolled": true
   },
   "outputs": [],
   "source": [
    "# df = (spark.read\n",
    "#       .option(\"numPartitions\", 3)\n",
    "#       .option(\"PartitionColumn\", \"cost\")\n",
    "#       .option(\"lowerBound\", int(min_value))\n",
    "#       .option(\"upperBound\", int(max_value))\n",
    "#       .jdbc(url=f\"{database_url};databaseName={database_name};\", table=\"products\", properties=jdbc_properties))"
   ]
  },
  {
   "cell_type": "code",
   "execution_count": 186,
   "id": "c68e826c-224e-4d85-934c-1deaa243ef2f",
   "metadata": {},
   "outputs": [],
   "source": [
    "input_df = (spark.read\n",
    "      .jdbc(url=f\"{database_url};databaseName={database_name};\", table=\"input\", properties=jdbc_properties))\n"
   ]
  },
  {
   "cell_type": "code",
   "execution_count": 187,
   "id": "2b30d7da-c390-458d-9ea7-bf99a2efd2e1",
   "metadata": {},
   "outputs": [
    {
     "name": "stdout",
     "output_type": "stream",
     "text": [
      "+---+-------+-----+\n",
      "| id|formula|value|\n",
      "+---+-------+-----+\n",
      "|  1|    1+4|   10|\n",
      "|  2|    2+1|    5|\n",
      "|  3|    3-2|   40|\n",
      "|  4|    4-1|   20|\n",
      "+---+-------+-----+\n",
      "\n"
     ]
    }
   ],
   "source": [
    "input_df.show()"
   ]
  },
  {
   "cell_type": "code",
   "execution_count": 188,
   "id": "3bc896be-574c-48ad-8632-588e5540aa20",
   "metadata": {},
   "outputs": [],
   "source": [
    "input_df2 = input_df.withColumn(\"operator_index_value\", expr(\"instr(formula, '+') + instr(formula, '-')\")) \\\n",
    "        .withColumn(\"left_value\", expr(\"substring(formula, 1, operator_index_value-1)\")) \\\n",
    "        .withColumn(\"right_value\", expr(\"substring(formula, operator_index_value+1, len(formula))\"))"
   ]
  },
  {
   "cell_type": "code",
   "execution_count": 189,
   "id": "5a7b9957-70f3-461a-bd9f-d1fd59dab3e6",
   "metadata": {},
   "outputs": [
    {
     "name": "stdout",
     "output_type": "stream",
     "text": [
      "+---+-------+-----+--------------------+----------+-----------+\n",
      "| id|formula|value|operator_index_value|left_value|right_value|\n",
      "+---+-------+-----+--------------------+----------+-----------+\n",
      "|  1|    1+4|   10|                   2|         1|          4|\n",
      "|  2|    2+1|    5|                   2|         2|          1|\n",
      "|  3|    3-2|   40|                   2|         3|          2|\n",
      "|  4|    4-1|   20|                   2|         4|          1|\n",
      "+---+-------+-----+--------------------+----------+-----------+\n",
      "\n"
     ]
    }
   ],
   "source": [
    "input_df2.show()"
   ]
  },
  {
   "cell_type": "code",
   "execution_count": 190,
   "id": "a5a7ee20-f85e-40c4-b419-8b17388a7c5e",
   "metadata": {},
   "outputs": [
    {
     "name": "stdout",
     "output_type": "stream",
     "text": [
      "+---+-------+-----+---------+\n",
      "| id|formula|value|new_value|\n",
      "+---+-------+-----+---------+\n",
      "|  1|    1+4|   10|       30|\n",
      "|  2|    2+1|    5|       15|\n",
      "|  3|    3-2|   40|       45|\n",
      "|  4|    4-1|   20|       30|\n",
      "+---+-------+-----+---------+\n",
      "\n"
     ]
    }
   ],
   "source": [
    "input_df2.alias(\"t1\").join(input_df2.alias(\"t2\"), col(\"t1.left_value\") == col(\"t2.id\"), 'inner')\\\n",
    ".join(input_df2.alias(\"t3\"), col(\"t1.right_value\") == col(\"t3.id\"), 'inner').select(\"t1.*\", col(\"t2.value\").alias(\"v1\"), col(\"t3.value\").alias(\"v2\"))\\\n",
    ".select(\"id\", \"formula\", \"value\", expr(\"v1+v2 as new_value\")).orderBy(\"id\").show()"
   ]
  },
  {
   "cell_type": "code",
   "execution_count": null,
   "id": "ea66555c-3509-49e2-877f-b56e4866af7f",
   "metadata": {},
   "outputs": [],
   "source": []
  }
 ],
 "metadata": {
  "kernelspec": {
   "display_name": "Python 3 (ipykernel)",
   "language": "python",
   "name": "python3"
  },
  "language_info": {
   "codemirror_mode": {
    "name": "ipython",
    "version": 3
   },
   "file_extension": ".py",
   "mimetype": "text/x-python",
   "name": "python",
   "nbconvert_exporter": "python",
   "pygments_lexer": "ipython3",
   "version": "3.11.1"
  }
 },
 "nbformat": 4,
 "nbformat_minor": 5
}
