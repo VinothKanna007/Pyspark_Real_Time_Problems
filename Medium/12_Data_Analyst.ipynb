{
 "cells": [
  {
   "cell_type": "code",
   "execution_count": 40,
   "id": "aa4e03a8-0424-463a-8870-6f03aa07ed02",
   "metadata": {},
   "outputs": [],
   "source": [
    "from pyspark.sql.types import StructType\n",
    "from pyspark import SparkConf\n",
    "from pyspark.sql import SparkSession\n",
    "from pyspark.sql.functions import *\n",
    "import pandas as pd\n",
    "import math\n",
    "from pyspark.sql.types import *\n",
    "from pyspark.sql.window import Window"
   ]
  },
  {
   "cell_type": "code",
   "execution_count": 2,
   "id": "8ca573cb-7051-4083-8df5-1192c54fe402",
   "metadata": {},
   "outputs": [
    {
     "data": {
      "text/html": [
       "\n",
       "            <div>\n",
       "                <p><b>SparkSession - in-memory</b></p>\n",
       "                \n",
       "        <div>\n",
       "            <p><b>SparkContext</b></p>\n",
       "\n",
       "            <p><a href=\"http://DESKTOP-FJ7E01E:4042\">Spark UI</a></p>\n",
       "\n",
       "            <dl>\n",
       "              <dt>Version</dt>\n",
       "                <dd><code>v3.5.0</code></dd>\n",
       "              <dt>Master</dt>\n",
       "                <dd><code>local[*]</code></dd>\n",
       "              <dt>AppName</dt>\n",
       "                <dd><code>w12_Spark_1</code></dd>\n",
       "            </dl>\n",
       "        </div>\n",
       "        \n",
       "            </div>\n",
       "        "
      ],
      "text/plain": [
       "<pyspark.sql.session.SparkSession at 0x22e100ea590>"
      ]
     },
     "execution_count": 2,
     "metadata": {},
     "output_type": "execute_result"
    }
   ],
   "source": [
    "my_conf = SparkConf()\n",
    "my_conf.set(\"spark.app.name\", \"w12_Spark_1\")\n",
    "my_conf.set(\"spark.master\", \"local[*]\")\n",
    "my_conf.set(\"spark.driver.extraClassPath\", \"C:/Users/Vinoth/Downloads/sqljdbc_12.4.2.0_enu/sqljdbc_12.4/enu/jars/mssql-jdbc-12.4.2.jre8.jar\")\n",
    "\n",
    "spark = SparkSession.builder.config(conf = my_conf).getOrCreate()\n",
    "spark\n"
   ]
  },
  {
   "cell_type": "code",
   "execution_count": 3,
   "id": "5392a20d-f9f6-41b4-9a0c-4708e5544e9f",
   "metadata": {},
   "outputs": [],
   "source": [
    "database_url = \"jdbc:sqlserver://DESKTOP-FJ7E01E\\SQLEXPRESS:1433;encrypt=true;trustServerCertificate=true\"\n",
    "\n",
    "database_name = \"Learn_Sql\"\n",
    "\n",
    "jdbc_properties = {\n",
    "\n",
    "\"user\": \"Vinoth\",\n",
    "\n",
    "\"password\": \"1234\",\n",
    "\n",
    "\"driver\": \"com.microsoft.sqlserver.jdbc.SQLServerDriver\"\n",
    "\n",
    "}"
   ]
  },
  {
   "cell_type": "code",
   "execution_count": 4,
   "id": "aedec24d-c5b2-4b6a-967f-a16da58c4e64",
   "metadata": {},
   "outputs": [],
   "source": [
    "# df_min_max = (spark.read\n",
    "# .format(\"jdbc\")\n",
    "# .option(\"url\", \"jdbc:sqlserver://DESKTOP-FJ7E01E\\SQLEXPRESS:1433;encrypt=true;trustServerCertificate=true;databaseName=Learn_Sql;\")\n",
    "# .option(\"query\",\"select min(cost) as min_row, max(cost) as max_row from products\")\n",
    "# .option(\"user\", \"Vinoth\")\n",
    "# .option(\"password\", \"1234\")\n",
    "# .option(\"driver\", \"com.microsoft.sqlserver.jdbc.SQLServerDriver\")\n",
    "# .load().collect())\n",
    "\n",
    "# min_value, max_value = df_min_max[0][0], df_min_max[0][1]"
   ]
  },
  {
   "cell_type": "code",
   "execution_count": 5,
   "id": "ad2c4cb2-7fea-4dcf-b85d-752a90b0057f",
   "metadata": {
    "scrolled": true
   },
   "outputs": [],
   "source": [
    "# df = (spark.read\n",
    "#       .option(\"numPartitions\", 3)\n",
    "#       .option(\"PartitionColumn\", \"cost\")\n",
    "#       .option(\"lowerBound\", int(min_value))\n",
    "#       .option(\"upperBound\", int(max_value))\n",
    "#       .jdbc(url=f\"{database_url};databaseName={database_name};\", table=\"products\", properties=jdbc_properties))"
   ]
  },
  {
   "cell_type": "code",
   "execution_count": 19,
   "id": "c68e826c-224e-4d85-934c-1deaa243ef2f",
   "metadata": {},
   "outputs": [],
   "source": [
    "call_start_logs = (spark.read\n",
    "      .jdbc(url=f\"{database_url};databaseName={database_name};\", table=\"call_start_logs\", properties=jdbc_properties))\n",
    "\n",
    "call_end_logs = (spark.read\n",
    "      .jdbc(url=f\"{database_url};databaseName={database_name};\", table=\"call_end_logs\", properties=jdbc_properties))"
   ]
  },
  {
   "cell_type": "code",
   "execution_count": 20,
   "id": "986eb280-034d-402c-8911-81d46e6262ce",
   "metadata": {},
   "outputs": [
    {
     "name": "stdout",
     "output_type": "stream",
     "text": [
      "+------------+-------------------+\n",
      "|phone_number|         start_time|\n",
      "+------------+-------------------+\n",
      "|         PN1|2022-01-01 10:20:00|\n",
      "|         PN1|2022-01-01 16:25:00|\n",
      "|         PN2|2022-01-01 12:30:00|\n",
      "|         PN3|2022-01-02 10:00:00|\n",
      "|         PN3|2022-01-02 12:30:00|\n",
      "|         PN3|2022-01-03 09:20:00|\n",
      "+------------+-------------------+\n",
      "\n"
     ]
    }
   ],
   "source": [
    "call_start_logs.show()"
   ]
  },
  {
   "cell_type": "code",
   "execution_count": 21,
   "id": "e923f8e6-c5a1-408a-a918-9e53da5f4b81",
   "metadata": {},
   "outputs": [
    {
     "name": "stdout",
     "output_type": "stream",
     "text": [
      "+------------+-------------------+\n",
      "|phone_number|           end_time|\n",
      "+------------+-------------------+\n",
      "|         PN1|2022-01-01 10:45:00|\n",
      "|         PN1|2022-01-01 17:05:00|\n",
      "|         PN2|2022-01-01 12:55:00|\n",
      "|         PN3|2022-01-02 10:20:00|\n",
      "|         PN3|2022-01-02 12:50:00|\n",
      "|         PN3|2022-01-03 09:40:00|\n",
      "+------------+-------------------+\n",
      "\n"
     ]
    }
   ],
   "source": [
    "call_end_logs.show()"
   ]
  },
  {
   "cell_type": "code",
   "execution_count": 22,
   "id": "bf885eaf-9664-4fb8-b4d6-8d10dd66e8f6",
   "metadata": {},
   "outputs": [],
   "source": [
    "window = Window.partitionBy(\"phone_number\").orderBy(\"start_time\")\n",
    "call_start_logs = call_start_logs.withColumn(\"row_num1\", row_number().over(window))"
   ]
  },
  {
   "cell_type": "code",
   "execution_count": 23,
   "id": "1924e322-cd35-4332-9e3d-c2f3ac86a7ea",
   "metadata": {},
   "outputs": [],
   "source": [
    "window = Window.partitionBy(\"phone_number\").orderBy(\"end_time\")\n",
    "call_end_logs = call_end_logs.withColumn(\"row_num2\", row_number().over(window))"
   ]
  },
  {
   "cell_type": "code",
   "execution_count": 28,
   "id": "6ebeec57-7d1f-4031-9fd5-b607306de8aa",
   "metadata": {},
   "outputs": [],
   "source": [
    "join_condition = (call_start_logs[\"phone_number\"] == call_end_logs[\"phone_number\"]) \\\n",
    "                 & (call_start_logs[\"row_num1\"] == call_end_logs[\"row_num2\"])"
   ]
  },
  {
   "cell_type": "code",
   "execution_count": 34,
   "id": "b567d3f9-c0c8-40fa-81cf-24881b74b207",
   "metadata": {},
   "outputs": [],
   "source": [
    "join_df = call_start_logs.join(call_end_logs, join_condition, 'inner')"
   ]
  },
  {
   "cell_type": "code",
   "execution_count": 37,
   "id": "43af8f6f-37fa-4cba-beac-057ec8a4c964",
   "metadata": {},
   "outputs": [
    {
     "name": "stdout",
     "output_type": "stream",
     "text": [
      "+------------+-------------------+--------+------------+-------------------+--------+\n",
      "|phone_number|         start_time|row_num1|phone_number|           end_time|row_num2|\n",
      "+------------+-------------------+--------+------------+-------------------+--------+\n",
      "|         PN1|2022-01-01 10:20:00|       1|         PN1|2022-01-01 10:45:00|       1|\n",
      "|         PN1|2022-01-01 16:25:00|       2|         PN1|2022-01-01 17:05:00|       2|\n",
      "|         PN2|2022-01-01 12:30:00|       1|         PN2|2022-01-01 12:55:00|       1|\n",
      "|         PN3|2022-01-02 10:00:00|       1|         PN3|2022-01-02 10:20:00|       1|\n",
      "|         PN3|2022-01-02 12:30:00|       2|         PN3|2022-01-02 12:50:00|       2|\n",
      "|         PN3|2022-01-03 09:20:00|       3|         PN3|2022-01-03 09:40:00|       3|\n",
      "+------------+-------------------+--------+------------+-------------------+--------+\n",
      "\n"
     ]
    }
   ],
   "source": [
    "join_df.show()"
   ]
  },
  {
   "cell_type": "code",
   "execution_count": 48,
   "id": "1cb333b2-91e0-4e25-a78a-c0961de2fd36",
   "metadata": {},
   "outputs": [
    {
     "name": "stdout",
     "output_type": "stream",
     "text": [
      "+------------+-------------------+--------+------------+-------------------+--------+-----------------+\n",
      "|phone_number|start_time         |row_num1|phone_number|end_time           |row_num2|time_diff_minutes|\n",
      "+------------+-------------------+--------+------------+-------------------+--------+-----------------+\n",
      "|PN1         |2022-01-01 10:20:00|1       |PN1         |2022-01-01 10:45:00|1       |25.0             |\n",
      "|PN1         |2022-01-01 16:25:00|2       |PN1         |2022-01-01 17:05:00|2       |40.0             |\n",
      "|PN2         |2022-01-01 12:30:00|1       |PN2         |2022-01-01 12:55:00|1       |25.0             |\n",
      "|PN3         |2022-01-02 10:00:00|1       |PN3         |2022-01-02 10:20:00|1       |20.0             |\n",
      "|PN3         |2022-01-02 12:30:00|2       |PN3         |2022-01-02 12:50:00|2       |20.0             |\n",
      "|PN3         |2022-01-03 09:20:00|3       |PN3         |2022-01-03 09:40:00|3       |20.0             |\n",
      "+------------+-------------------+--------+------------+-------------------+--------+-----------------+\n",
      "\n"
     ]
    }
   ],
   "source": [
    "join_df.withColumn(\"time_diff_minutes\", abs(col(\"start_time\").cast('long') - col(\"end_time\").cast('long'))/60).show(truncate = False)"
   ]
  },
  {
   "cell_type": "code",
   "execution_count": 58,
   "id": "4570d9fd-e7a3-4aac-825a-60ffbca75845",
   "metadata": {},
   "outputs": [],
   "source": [
    "time_df = join_df.withColumn(\"time_diff_minutes\", expr(\"abs(cast(start_time as long) - cast(end_time as long))/60\"))"
   ]
  },
  {
   "cell_type": "code",
   "execution_count": 63,
   "id": "743407a5-0de6-4cb3-ac91-5bb133b50974",
   "metadata": {},
   "outputs": [
    {
     "name": "stdout",
     "output_type": "stream",
     "text": [
      "+-------------------+------------+-------------------+-----------------+\n",
      "|         start_time|phone_number|           end_time|time_diff_minutes|\n",
      "+-------------------+------------+-------------------+-----------------+\n",
      "|2022-01-01 10:20:00|         PN1|2022-01-01 10:45:00|             25.0|\n",
      "|2022-01-01 16:25:00|         PN1|2022-01-01 17:05:00|             40.0|\n",
      "|2022-01-01 12:30:00|         PN2|2022-01-01 12:55:00|             25.0|\n",
      "|2022-01-02 10:00:00|         PN3|2022-01-02 10:20:00|             20.0|\n",
      "|2022-01-02 12:30:00|         PN3|2022-01-02 12:50:00|             20.0|\n",
      "|2022-01-03 09:20:00|         PN3|2022-01-03 09:40:00|             20.0|\n",
      "+-------------------+------------+-------------------+-----------------+\n",
      "\n"
     ]
    }
   ],
   "source": [
    "time_df.drop(*[\"row_num1\", \"row_num2\", call_start_logs[\"phone_number\"]]).show()"
   ]
  },
  {
   "cell_type": "code",
   "execution_count": null,
   "id": "2b30d7da-c390-458d-9ea7-bf99a2efd2e1",
   "metadata": {},
   "outputs": [],
   "source": []
  }
 ],
 "metadata": {
  "kernelspec": {
   "display_name": "Python 3 (ipykernel)",
   "language": "python",
   "name": "python3"
  },
  "language_info": {
   "codemirror_mode": {
    "name": "ipython",
    "version": 3
   },
   "file_extension": ".py",
   "mimetype": "text/x-python",
   "name": "python",
   "nbconvert_exporter": "python",
   "pygments_lexer": "ipython3",
   "version": "3.11.1"
  }
 },
 "nbformat": 4,
 "nbformat_minor": 5
}
