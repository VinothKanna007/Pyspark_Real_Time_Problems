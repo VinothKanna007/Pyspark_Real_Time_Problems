{
 "cells": [
  {
   "cell_type": "code",
   "execution_count": 7,
   "id": "aa4e03a8-0424-463a-8870-6f03aa07ed02",
   "metadata": {},
   "outputs": [],
   "source": [
    "from pyspark.sql.types import StructType\n",
    "from pyspark import SparkConf\n",
    "from pyspark.sql import SparkSession\n",
    "from pyspark.sql.functions import *\n",
    "import pandas as pd\n",
    "import math\n",
    "from pyspark.sql.types import *\n",
    "from pyspark.sql.window import Window"
   ]
  },
  {
   "cell_type": "code",
   "execution_count": 8,
   "id": "8ca573cb-7051-4083-8df5-1192c54fe402",
   "metadata": {},
   "outputs": [
    {
     "data": {
      "text/html": [
       "\n",
       "            <div>\n",
       "                <p><b>SparkSession - in-memory</b></p>\n",
       "                \n",
       "        <div>\n",
       "            <p><b>SparkContext</b></p>\n",
       "\n",
       "            <p><a href=\"http://DESKTOP-FJ7E01E:4047\">Spark UI</a></p>\n",
       "\n",
       "            <dl>\n",
       "              <dt>Version</dt>\n",
       "                <dd><code>v3.5.0</code></dd>\n",
       "              <dt>Master</dt>\n",
       "                <dd><code>local[*]</code></dd>\n",
       "              <dt>AppName</dt>\n",
       "                <dd><code>w12_Spark_1</code></dd>\n",
       "            </dl>\n",
       "        </div>\n",
       "        \n",
       "            </div>\n",
       "        "
      ],
      "text/plain": [
       "<pyspark.sql.session.SparkSession at 0x2256200d3d0>"
      ]
     },
     "execution_count": 8,
     "metadata": {},
     "output_type": "execute_result"
    }
   ],
   "source": [
    "my_conf = SparkConf()\n",
    "my_conf.set(\"spark.app.name\", \"w12_Spark_1\")\n",
    "my_conf.set(\"spark.master\", \"local[*]\")\n",
    "my_conf.set(\"spark.driver.extraClassPath\", \"C:/Users/Vinoth/Downloads/sqljdbc_12.4.2.0_enu/sqljdbc_12.4/enu/jars/mssql-jdbc-12.4.2.jre8.jar\")\n",
    "\n",
    "spark = SparkSession.builder.config(conf = my_conf).getOrCreate()\n",
    "spark\n"
   ]
  },
  {
   "cell_type": "code",
   "execution_count": 9,
   "id": "5392a20d-f9f6-41b4-9a0c-4708e5544e9f",
   "metadata": {},
   "outputs": [],
   "source": [
    "database_url = \"jdbc:sqlserver://DESKTOP-FJ7E01E\\SQLEXPRESS:1433;encrypt=true;trustServerCertificate=true\"\n",
    "\n",
    "database_name = \"Learn_Sql\"\n",
    "\n",
    "jdbc_properties = {\n",
    "\n",
    "\"user\": \"Vinoth\",\n",
    "\n",
    "\"password\": \"1234\",\n",
    "\n",
    "\"driver\": \"com.microsoft.sqlserver.jdbc.SQLServerDriver\"\n",
    "\n",
    "}"
   ]
  },
  {
   "cell_type": "code",
   "execution_count": 10,
   "id": "aedec24d-c5b2-4b6a-967f-a16da58c4e64",
   "metadata": {},
   "outputs": [],
   "source": [
    "# df_min_max = (spark.read\n",
    "# .format(\"jdbc\")\n",
    "# .option(\"url\", \"jdbc:sqlserver://DESKTOP-FJ7E01E\\SQLEXPRESS:1433;encrypt=true;trustServerCertificate=true;databaseName=Learn_Sql;\")\n",
    "# .option(\"query\",\"select min(cost) as min_row, max(cost) as max_row from products\")\n",
    "# .option(\"user\", \"Vinoth\")\n",
    "# .option(\"password\", \"1234\")\n",
    "# .option(\"driver\", \"com.microsoft.sqlserver.jdbc.SQLServerDriver\")\n",
    "# .load().collect())\n",
    "\n",
    "# min_value, max_value = df_min_max[0][0], df_min_max[0][1]"
   ]
  },
  {
   "cell_type": "code",
   "execution_count": 11,
   "id": "ad2c4cb2-7fea-4dcf-b85d-752a90b0057f",
   "metadata": {
    "scrolled": true
   },
   "outputs": [],
   "source": [
    "# df = (spark.read\n",
    "#       .option(\"numPartitions\", 3)\n",
    "#       .option(\"PartitionColumn\", \"cost\")\n",
    "#       .option(\"lowerBound\", int(min_value))\n",
    "#       .option(\"upperBound\", int(max_value))\n",
    "#       .jdbc(url=f\"{database_url};databaseName={database_name};\", table=\"products\", properties=jdbc_properties))"
   ]
  },
  {
   "cell_type": "code",
   "execution_count": 12,
   "id": "c68e826c-224e-4d85-934c-1deaa243ef2f",
   "metadata": {},
   "outputs": [],
   "source": [
    "people_df = (spark.read\n",
    "      .jdbc(url=f\"{database_url};databaseName={database_name};\", table=\"people\", properties=jdbc_properties))\n",
    "relation_df = (spark.read\n",
    "      .jdbc(url=f\"{database_url};databaseName={database_name};\", table=\"relations\", properties=jdbc_properties))\n"
   ]
  },
  {
   "cell_type": "code",
   "execution_count": 13,
   "id": "9bb56a48-6008-47c9-96e3-d29a8b30ac2e",
   "metadata": {},
   "outputs": [
    {
     "name": "stdout",
     "output_type": "stream",
     "text": [
      "+---+---------+------+\n",
      "| id|     name|gender|\n",
      "+---+---------+------+\n",
      "|107|     Days|    F |\n",
      "|145| Hawbaker|    M |\n",
      "|155|   Hansel|    F |\n",
      "|202|Blackston|    M |\n",
      "|227|    Criss|    F |\n",
      "|278|   Keffer|    M |\n",
      "|305|    Canty|    M |\n",
      "|329|  Mozingo|    M |\n",
      "|425|     Nolf|    M |\n",
      "|534|    Waugh|    M |\n",
      "|586|     Tong|    M |\n",
      "|618|Dimartino|    M |\n",
      "|747|    Beane|    M |\n",
      "|878|  Chatmon|    F |\n",
      "|904|  Hansard|    F |\n",
      "+---+---------+------+\n",
      "\n"
     ]
    }
   ],
   "source": [
    "people_df.show()"
   ]
  },
  {
   "cell_type": "code",
   "execution_count": 14,
   "id": "8ed9e616-eea3-4c10-9f8a-96e0303fbbd9",
   "metadata": {},
   "outputs": [
    {
     "name": "stdout",
     "output_type": "stream",
     "text": [
      "+----+----+\n",
      "|c_id|p_id|\n",
      "+----+----+\n",
      "| 145| 202|\n",
      "| 145| 107|\n",
      "| 278| 305|\n",
      "| 278| 155|\n",
      "| 329| 425|\n",
      "| 329| 227|\n",
      "| 534| 586|\n",
      "| 534| 878|\n",
      "| 618| 747|\n",
      "| 618| 904|\n",
      "+----+----+\n",
      "\n"
     ]
    }
   ],
   "source": [
    "relation_df.show()"
   ]
  },
  {
   "cell_type": "code",
   "execution_count": 21,
   "id": "db3d08dc-3dea-420d-8e51-6a3a078e0f23",
   "metadata": {},
   "outputs": [],
   "source": [
    "join_df = people_df.alias(\"t1\").join(relation_df.alias(\"t2\"), col(\"t1.id\") == col(\"t2.p_id\"), 'inner')"
   ]
  },
  {
   "cell_type": "code",
   "execution_count": 31,
   "id": "cdeb7531-9dea-4ffc-9ab0-baa0fea5b765",
   "metadata": {},
   "outputs": [
    {
     "name": "stdout",
     "output_type": "stream",
     "text": [
      "+----------+---------+-------+\n",
      "|child_name|   father| mother|\n",
      "+----------+---------+-------+\n",
      "| Dimartino|    Beane|Hansard|\n",
      "|  Hawbaker|Blackston|   Days|\n",
      "|    Keffer|    Canty| Hansel|\n",
      "|   Mozingo|     Nolf|  Criss|\n",
      "|     Waugh|     Tong|Chatmon|\n",
      "+----------+---------+-------+\n",
      "\n"
     ]
    }
   ],
   "source": [
    "join_df2 = join_df.alias(\"t1\").join(people_df.alias(\"t2\"), col(\"t1.c_id\") == col(\"t2.id\") , 'inner')\\\n",
    ".select(\"t1.*\", col(\"t2.name\").alias(\"child_name\"))\\\n",
    ".groupBy(\"child_name\")\\\n",
    ".agg(expr(\"max(case when  gender = 'M' then name end) as father\"),\n",
    "     expr(\"max(case when  gender = 'F' then name end) as mother\")).show()"
   ]
  },
  {
   "cell_type": "code",
   "execution_count": null,
   "id": "8362cb01-5b2a-4377-a846-5ddbbe854cf2",
   "metadata": {},
   "outputs": [],
   "source": []
  }
 ],
 "metadata": {
  "kernelspec": {
   "display_name": "Python 3 (ipykernel)",
   "language": "python",
   "name": "python3"
  },
  "language_info": {
   "codemirror_mode": {
    "name": "ipython",
    "version": 3
   },
   "file_extension": ".py",
   "mimetype": "text/x-python",
   "name": "python",
   "nbconvert_exporter": "python",
   "pygments_lexer": "ipython3",
   "version": "3.11.1"
  }
 },
 "nbformat": 4,
 "nbformat_minor": 5
}
